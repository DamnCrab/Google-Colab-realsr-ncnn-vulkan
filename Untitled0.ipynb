{
  "nbformat": 4,
  "nbformat_minor": 0,
  "metadata": {
    "colab": {
      "name": "Untitled0.ipynb",
      "provenance": [],
      "mount_file_id": "1ne6SdPTf6UNa3vlLtdaMJPntCU1va45P",
      "authorship_tag": "ABX9TyNmDWESlWc4WhLGiaw20kR4",
      "include_colab_link": true
    },
    "kernelspec": {
      "name": "python3",
      "display_name": "Python 3"
    },
    "accelerator": "GPU"
  },
  "cells": [
    {
      "cell_type": "markdown",
      "metadata": {
        "id": "view-in-github",
        "colab_type": "text"
      },
      "source": [
        "<a href=\"https://colab.research.google.com/github/DamnCrab/Google-Colab-realsr-ncnn-vulkan/blob/master/Untitled0.ipynb\" target=\"_parent\"><img src=\"https://colab.research.google.com/assets/colab-badge.svg\" alt=\"Open In Colab\"/></a>"
      ]
    },
    {
      "cell_type": "markdown",
      "metadata": {
        "id": "YTd0RPJZ8K6_",
        "colab_type": "text"
      },
      "source": [
        "首先调用GPU 修改-笔记本设置-选择GPU **（更改这个选项会导致项目初始化 文件全部丢失）**"
      ]
    },
    {
      "cell_type": "markdown",
      "metadata": {
        "id": "MYBxQ2Yu92iX",
        "colab_type": "text"
      },
      "source": [
        "GPU调用检测"
      ]
    },
    {
      "cell_type": "code",
      "metadata": {
        "id": "rrD-5lEG90HW",
        "colab_type": "code",
        "colab": {
          "base_uri": "https://localhost:8080/",
          "height": 35
        },
        "outputId": "03fbb1af-dab7-43b5-b251-38d948eb83c0"
      },
      "source": [
        "import tensorflow as tf\n",
        "tf.test.gpu_device_name()"
      ],
      "execution_count": 14,
      "outputs": [
        {
          "output_type": "execute_result",
          "data": {
            "application/vnd.google.colaboratory.intrinsic+json": {
              "type": "string"
            },
            "text/plain": [
              "'/device:GPU:0'"
            ]
          },
          "metadata": {
            "tags": []
          },
          "execution_count": 14
        }
      ]
    },
    {
      "cell_type": "markdown",
      "metadata": {
        "id": "5Ig_PR6zzSZO",
        "colab_type": "text"
      },
      "source": [
        "安装依赖\n"
      ]
    },
    {
      "cell_type": "code",
      "metadata": {
        "id": "_KNr8g7ylWDm",
        "colab_type": "code",
        "colab": {}
      },
      "source": [
        "!apt-get update"
      ],
      "execution_count": null,
      "outputs": []
    },
    {
      "cell_type": "code",
      "metadata": {
        "id": "9v0FX7HwkHkf",
        "colab_type": "code",
        "colab": {}
      },
      "source": [
        "!apt-get install libvulkan-dev"
      ],
      "execution_count": null,
      "outputs": []
    },
    {
      "cell_type": "code",
      "metadata": {
        "id": "wuTFlLZwuwOO",
        "colab_type": "code",
        "colab": {}
      },
      "source": [
        "!apt-get install ffmpeg"
      ],
      "execution_count": null,
      "outputs": []
    },
    {
      "cell_type": "markdown",
      "metadata": {
        "id": "TGcHIVsBzgn_",
        "colab_type": "text"
      },
      "source": [
        "获取最新release 注意改地址"
      ]
    },
    {
      "cell_type": "code",
      "metadata": {
        "id": "mwx0urPO1lfY",
        "colab_type": "code",
        "colab": {}
      },
      "source": [
        "!wget --no-check-certificate --content-disposition https://github.com/nihui/realsr-ncnn-vulkan/releases/download/20200606/realsr-ncnn-vulkan-20200606-linux.zip"
      ],
      "execution_count": null,
      "outputs": []
    },
    {
      "cell_type": "code",
      "metadata": {
        "id": "Bzt23XN92EiQ",
        "colab_type": "code",
        "colab": {
          "base_uri": "https://localhost:8080/",
          "height": 134
        },
        "outputId": "6459a90f-b18a-4599-a617-bc51c6f55bac"
      },
      "source": [
        "!unzip -o -d /content/ /content/realsr-ncnn-vulkan-*-linux.zip"
      ],
      "execution_count": 18,
      "outputs": [
        {
          "output_type": "stream",
          "text": [
            "Archive:  /content/realsr-ncnn-vulkan-20200606-linux.zip\n",
            "  inflating: /content/realsr-ncnn-vulkan-20200606-linux/readme.txt  \n",
            "  inflating: /content/realsr-ncnn-vulkan-20200606-linux/models-DF2K/x4.bin  \n",
            "  inflating: /content/realsr-ncnn-vulkan-20200606-linux/models-DF2K/x4.param  \n",
            "  inflating: /content/realsr-ncnn-vulkan-20200606-linux/models-DF2K_JPEG/x4.bin  \n",
            "  inflating: /content/realsr-ncnn-vulkan-20200606-linux/models-DF2K_JPEG/x4.param  \n",
            "  inflating: /content/realsr-ncnn-vulkan-20200606-linux/realsr-ncnn-vulkan  \n"
          ],
          "name": "stdout"
        }
      ]
    },
    {
      "cell_type": "code",
      "metadata": {
        "id": "ClOlcs7Zo1-v",
        "colab_type": "code",
        "colab": {}
      },
      "source": [
        "!chmod -R 777 /content/realsr-ncnn-vulkan-*-linux/"
      ],
      "execution_count": 35,
      "outputs": []
    },
    {
      "cell_type": "code",
      "metadata": {
        "id": "6irAU-7y-WIZ",
        "colab_type": "code",
        "colab": {}
      },
      "source": [
        "!chmod 777 /content/realsr-ncnn-vulkan-20200606-linux/models-DF2K_JPEG/x4.bin"
      ],
      "execution_count": 31,
      "outputs": []
    },
    {
      "cell_type": "markdown",
      "metadata": {
        "id": "opoQuV3R5U5b",
        "colab_type": "text"
      },
      "source": [
        "测试是否安装完成 若输出Usage: realsr-ncnn-vulkan -i infile -o outfile [options]...则成功"
      ]
    },
    {
      "cell_type": "code",
      "metadata": {
        "id": "QEWQM5horI6h",
        "colab_type": "code",
        "colab": {}
      },
      "source": [
        "!/content/realsr-ncnn-vulkan-*-linux/realsr-ncnn-vulkan"
      ],
      "execution_count": null,
      "outputs": []
    },
    {
      "cell_type": "markdown",
      "metadata": {
        "id": "LUPgd1UH5s0G",
        "colab_type": "text"
      },
      "source": [
        "输出视频信息 注意查看帧率 **文件名记得修改**"
      ]
    },
    {
      "cell_type": "code",
      "metadata": {
        "id": "Za-pqpXmy61j",
        "colab_type": "code",
        "colab": {}
      },
      "source": [
        "!ffmpeg -i /content/1.mp4"
      ],
      "execution_count": null,
      "outputs": []
    },
    {
      "cell_type": "markdown",
      "metadata": {
        "id": "r72BWG2n5_8O",
        "colab_type": "text"
      },
      "source": [
        "视频转图片 %05d.png代表生成00000.png-99999.png范围 05代表位数可自行修改"
      ]
    },
    {
      "cell_type": "code",
      "metadata": {
        "id": "pcQS6FRV_5jJ",
        "colab_type": "code",
        "colab": {}
      },
      "source": [
        "!mkdir temp\n",
        "!mkdir temp2"
      ],
      "execution_count": 21,
      "outputs": []
    },
    {
      "cell_type": "code",
      "metadata": {
        "id": "jXHxe4KDvCtu",
        "colab_type": "code",
        "colab": {}
      },
      "source": [
        "!ffmpeg -threads 8 -i /content/1.mp4 /content/temp/%05d.png"
      ],
      "execution_count": null,
      "outputs": []
    },
    {
      "cell_type": "code",
      "metadata": {
        "id": "n8x5UhX4AHhK",
        "colab_type": "code",
        "colab": {}
      },
      "source": [
        "!ls /content/temp"
      ],
      "execution_count": null,
      "outputs": []
    },
    {
      "cell_type": "code",
      "metadata": {
        "id": "SYXda6RbE-7t",
        "colab_type": "code",
        "colab": {
          "base_uri": "https://localhost:8080/",
          "height": 34
        },
        "outputId": "7a984fef-f777-4912-d551-c3732f3dbe82"
      },
      "source": [
        "!ls -l /content/realsr-ncnn-vulkan-20200606-linux/realsr-ncnn-vulkan"
      ],
      "execution_count": 36,
      "outputs": [
        {
          "output_type": "stream",
          "text": [
            "-rwxrwxrwx 1 root root 3415576 Jun  6 04:03 /content/realsr-ncnn-vulkan-20200606-linux/realsr-ncnn-vulkan\n"
          ],
          "name": "stdout"
        }
      ]
    },
    {
      "cell_type": "code",
      "metadata": {
        "id": "BAcFyMDIGuGa",
        "colab_type": "code",
        "colab": {}
      },
      "source": [
        "!export PATH=$PATH:/content/realsr-ncnn-vulkan-20200606-linux/realsr-ncnn-vulkan"
      ],
      "execution_count": 40,
      "outputs": []
    },
    {
      "cell_type": "code",
      "metadata": {
        "id": "4Zs2UXMN6XWz",
        "colab_type": "code",
        "colab": {
          "base_uri": "https://localhost:8080/",
          "height": 706
        },
        "outputId": "20ad7553-737b-4fbf-fd7b-6fc57040bf1b"
      },
      "source": [
        "!/content/realsr-ncnn-vulkan-*-linux/realsr-ncnn-vulkan -i /content/temp/05900.png -o /content/temp2/05900.png -s 4 "
      ],
      "execution_count": 41,
      "outputs": [
        {
          "output_type": "stream",
          "text": [
            "[0 Tesla T4]  queueC=2[8]  queueG=0[16]  queueT=1[1]\n",
            "[0 Tesla T4]  buglssc=0  bugsbn1=0  buglbia=0  bugihfa=0\n",
            "[0 Tesla T4]  fp16p=1  fp16s=1  fp16a=1  int8s=1  int8a=1\n",
            "fopen models-DF2K_JPEG/x4.param failed\n",
            "fopen models-DF2K_JPEG/x4.bin failed\n",
            "find_blob_index_by_name data failed\n",
            "find_blob_index_by_name output failed\n",
            "0.00%\n",
            "find_blob_index_by_name data failed\n",
            "find_blob_index_by_name output failed\n",
            "8.33%\n",
            "find_blob_index_by_name data failed\n",
            "find_blob_index_by_name output failed\n",
            "16.67%\n",
            "find_blob_index_by_name data failed\n",
            "find_blob_index_by_name output failed\n",
            "25.00%\n",
            "find_blob_index_by_name data failed\n",
            "find_blob_index_by_name output failed\n",
            "33.33%\n",
            "find_blob_index_by_name data failed\n",
            "find_blob_index_by_name output failed\n",
            "41.67%\n",
            "find_blob_index_by_name data failed\n",
            "find_blob_index_by_name output failed\n",
            "50.00%\n",
            "find_blob_index_by_name data failed\n",
            "find_blob_index_by_name output failed\n",
            "58.33%\n",
            "find_blob_index_by_name data failed\n",
            "find_blob_index_by_name output failed\n",
            "66.67%\n",
            "find_blob_index_by_name data failed\n",
            "find_blob_index_by_name output failed\n",
            "75.00%\n",
            "find_blob_index_by_name data failed\n",
            "find_blob_index_by_name output failed\n",
            "83.33%\n",
            "find_blob_index_by_name data failed\n",
            "find_blob_index_by_name output failed\n",
            "91.67%\n"
          ],
          "name": "stdout"
        }
      ]
    },
    {
      "cell_type": "code",
      "metadata": {
        "id": "Idg2W-OlsK-n",
        "colab_type": "code",
        "colab": {}
      },
      "source": [
        "!/content/realsr-ncnn-vulkan-*-linux/realsr-ncnn-vulkan -i /content/temp/%05d.png -o /content/temp2/%05d.png -s 4 -x -m models-DF2K"
      ],
      "execution_count": null,
      "outputs": []
    },
    {
      "cell_type": "code",
      "metadata": {
        "id": "K8ycJnIjyVXw",
        "colab_type": "code",
        "colab": {}
      },
      "source": [
        "ffmpeg -y -r 10 -i /content/temp/%05d.png /content/output.mp4"
      ],
      "execution_count": null,
      "outputs": []
    }
  ]
}