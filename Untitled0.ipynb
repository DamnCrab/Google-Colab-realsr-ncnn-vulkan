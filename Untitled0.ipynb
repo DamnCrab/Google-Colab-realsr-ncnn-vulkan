{
  "nbformat": 4,
  "nbformat_minor": 0,
  "metadata": {
    "colab": {
      "name": "Untitled0.ipynb",
      "provenance": [],
      "mount_file_id": "1ne6SdPTf6UNa3vlLtdaMJPntCU1va45P",
      "authorship_tag": "ABX9TyPAb6v0lspbu9MRnKg4+vAz",
      "include_colab_link": true
    },
    "kernelspec": {
      "name": "python3",
      "display_name": "Python 3"
    },
    "accelerator": "GPU"
  },
  "cells": [
    {
      "cell_type": "markdown",
      "metadata": {
        "id": "view-in-github",
        "colab_type": "text"
      },
      "source": [
        "<a href=\"https://colab.research.google.com/github/DamnCrab/Google-Colab-realsr-ncnn-vulkan/blob/master/Untitled0.ipynb\" target=\"_parent\"><img src=\"https://colab.research.google.com/assets/colab-badge.svg\" alt=\"Open In Colab\"/></a>"
      ]
    },
    {
      "cell_type": "markdown",
      "metadata": {
        "id": "YTd0RPJZ8K6_",
        "colab_type": "text"
      },
      "source": [
        "首先调用GPU 修改-笔记本设置-选择GPU **（更改这个选项会导致项目初始化 文件全部丢失）**"
      ]
    },
    {
      "cell_type": "markdown",
      "metadata": {
        "id": "_lg5o2ntuQ0n",
        "colab_type": "text"
      },
      "source": [
        "在21行修改视频文件名（视频文件建议Google Drive上传然后拖到目录下，直接上传有点慢）"
      ]
    },
    {
      "cell_type": "markdown",
      "metadata": {
        "id": "MYBxQ2Yu92iX",
        "colab_type": "text"
      },
      "source": [
        "GPU调用检测"
      ]
    },
    {
      "cell_type": "code",
      "metadata": {
        "id": "rrD-5lEG90HW",
        "colab_type": "code",
        "colab": {
          "base_uri": "https://localhost:8080/",
          "height": 35
        },
        "outputId": "7fa88b54-a471-40ad-9a67-ce17ca16da23"
      },
      "source": [
        "import tensorflow as tf\n",
        "tf.test.gpu_device_name()"
      ],
      "execution_count": 2,
      "outputs": [
        {
          "output_type": "execute_result",
          "data": {
            "application/vnd.google.colaboratory.intrinsic+json": {
              "type": "string"
            },
            "text/plain": [
              "'/device:GPU:0'"
            ]
          },
          "metadata": {
            "tags": []
          },
          "execution_count": 2
        }
      ]
    },
    {
      "cell_type": "markdown",
      "metadata": {
        "id": "5Ig_PR6zzSZO",
        "colab_type": "text"
      },
      "source": [
        "安装依赖\n"
      ]
    },
    {
      "cell_type": "code",
      "metadata": {
        "id": "_KNr8g7ylWDm",
        "colab_type": "code",
        "colab": {}
      },
      "source": [
        "!apt-get update"
      ],
      "execution_count": null,
      "outputs": []
    },
    {
      "cell_type": "code",
      "metadata": {
        "id": "9v0FX7HwkHkf",
        "colab_type": "code",
        "colab": {}
      },
      "source": [
        "!apt-get install libvulkan-dev"
      ],
      "execution_count": null,
      "outputs": []
    },
    {
      "cell_type": "code",
      "metadata": {
        "id": "wuTFlLZwuwOO",
        "colab_type": "code",
        "colab": {}
      },
      "source": [
        "!apt-get install ffmpeg"
      ],
      "execution_count": null,
      "outputs": []
    },
    {
      "cell_type": "markdown",
      "metadata": {
        "id": "TGcHIVsBzgn_",
        "colab_type": "text"
      },
      "source": [
        "获取最新release "
      ]
    },
    {
      "cell_type": "code",
      "metadata": {
        "id": "mwx0urPO1lfY",
        "colab_type": "code",
        "colab": {}
      },
      "source": [
        "!wget --no-check-certificate --content-disposition https://github.com/nihui/realsr-ncnn-vulkan/releases/download/20200606/realsr-ncnn-vulkan-20200606-linux.zip"
      ],
      "execution_count": null,
      "outputs": []
    },
    {
      "cell_type": "code",
      "metadata": {
        "id": "Bzt23XN92EiQ",
        "colab_type": "code",
        "colab": {}
      },
      "source": [
        "!unzip -o -d /content/ /content/realsr-ncnn-vulkan-*-linux.zip"
      ],
      "execution_count": null,
      "outputs": []
    },
    {
      "cell_type": "code",
      "metadata": {
        "id": "ClOlcs7Zo1-v",
        "colab_type": "code",
        "colab": {}
      },
      "source": [
        "!chmod -R 777 /content/realsr-ncnn-vulkan-*-linux/"
      ],
      "execution_count": 8,
      "outputs": []
    },
    {
      "cell_type": "code",
      "metadata": {
        "id": "gP7ARYCnsOqO",
        "colab_type": "code",
        "colab": {}
      },
      "source": [
        "!cp -r /content/realsr-ncnn-vulkan-*-linux/models-DF2K_JPEG/ /content/\n",
        "!cp -r /content/realsr-ncnn-vulkan-*-linux/models-DF2K/ /content/"
      ],
      "execution_count": 32,
      "outputs": []
    },
    {
      "cell_type": "markdown",
      "metadata": {
        "id": "opoQuV3R5U5b",
        "colab_type": "text"
      },
      "source": [
        "测试是否安装完成 "
      ]
    },
    {
      "cell_type": "code",
      "metadata": {
        "id": "QEWQM5horI6h",
        "colab_type": "code",
        "colab": {
          "base_uri": "https://localhost:8080/",
          "height": 218
        },
        "outputId": "0659aa84-0c60-4f08-8813-a61bcef82862"
      },
      "source": [
        "!/content/realsr-ncnn-vulkan-*-linux/realsr-ncnn-vulkan"
      ],
      "execution_count": 33,
      "outputs": [
        {
          "output_type": "stream",
          "text": [
            "Usage: realsr-ncnn-vulkan -i infile -o outfile [options]...\n",
            "\n",
            "  -h                   show this help\n",
            "  -v                   verbose output\n",
            "  -i input-path        input image path (jpg/png/webp) or directory\n",
            "  -o output-path       output image path (png) or directory\n",
            "  -s scale             upscale ratio (4, default=4)\n",
            "  -t tile-size         tile size (>=32/0=auto, default=0)\n",
            "  -m model-path        realsr model path (default=models-DF2K_JPEG)\n",
            "  -g gpu-id            gpu device to use (default=0)\n",
            "  -j load:proc:save    thread count for load/proc/save (default=1:2:2)\n",
            "  -x                   enable tta mode\n"
          ],
          "name": "stdout"
        }
      ]
    },
    {
      "cell_type": "markdown",
      "metadata": {
        "id": "LUPgd1UH5s0G",
        "colab_type": "text"
      },
      "source": [
        "输出视频信息 注意查看帧率 **文件名记得修改**"
      ]
    },
    {
      "cell_type": "code",
      "metadata": {
        "id": "Za-pqpXmy61j",
        "colab_type": "code",
        "colab": {
          "base_uri": "https://localhost:8080/",
          "height": 306
        },
        "outputId": "fddb2c13-2de3-4f0d-9168-db27aed4a9e3"
      },
      "source": [
        "!ffmpeg -i /content/1.mp4"
      ],
      "execution_count": 21,
      "outputs": [
        {
          "output_type": "stream",
          "text": [
            "ffmpeg version 3.4.8-0ubuntu0.2 Copyright (c) 2000-2020 the FFmpeg developers\n",
            "  built with gcc 7 (Ubuntu 7.5.0-3ubuntu1~18.04)\n",
            "  configuration: --prefix=/usr --extra-version=0ubuntu0.2 --toolchain=hardened --libdir=/usr/lib/x86_64-linux-gnu --incdir=/usr/include/x86_64-linux-gnu --enable-gpl --disable-stripping --enable-avresample --enable-avisynth --enable-gnutls --enable-ladspa --enable-libass --enable-libbluray --enable-libbs2b --enable-libcaca --enable-libcdio --enable-libflite --enable-libfontconfig --enable-libfreetype --enable-libfribidi --enable-libgme --enable-libgsm --enable-libmp3lame --enable-libmysofa --enable-libopenjpeg --enable-libopenmpt --enable-libopus --enable-libpulse --enable-librubberband --enable-librsvg --enable-libshine --enable-libsnappy --enable-libsoxr --enable-libspeex --enable-libssh --enable-libtheora --enable-libtwolame --enable-libvorbis --enable-libvpx --enable-libwavpack --enable-libwebp --enable-libx265 --enable-libxml2 --enable-libxvid --enable-libzmq --enable-libzvbi --enable-omx --enable-openal --enable-opengl --enable-sdl2 --enable-libdc1394 --enable-libdrm --enable-libiec61883 --enable-chromaprint --enable-frei0r --enable-libopencv --enable-libx264 --enable-shared\n",
            "  libavutil      55. 78.100 / 55. 78.100\n",
            "  libavcodec     57.107.100 / 57.107.100\n",
            "  libavformat    57. 83.100 / 57. 83.100\n",
            "  libavdevice    57. 10.100 / 57. 10.100\n",
            "  libavfilter     6.107.100 /  6.107.100\n",
            "  libavresample   3.  7.  0 /  3.  7.  0\n",
            "  libswscale      4.  8.100 /  4.  8.100\n",
            "  libswresample   2.  9.100 /  2.  9.100\n",
            "  libpostproc    54.  7.100 / 54.  7.100\n",
            "Input #0, mpeg, from '/content/1.mp4':\n",
            "  Duration: 00:12:56.66, start: 0.533367, bitrate: 6165 kb/s\n",
            "    Stream #0:0[0x1e0]: Video: mpeg2video (Main), yuv420p(tv, top first), 720x480 [SAR 32:27 DAR 16:9], 30 fps, 59.94 tbr, 90k tbn, 59.94 tbc\n",
            "\u001b[4;31mAt least one output file must be specified\n",
            "\u001b[0m"
          ],
          "name": "stdout"
        }
      ]
    },
    {
      "cell_type": "markdown",
      "metadata": {
        "id": "r72BWG2n5_8O",
        "colab_type": "text"
      },
      "source": [
        "视频转图片 %05d.png代表生成00000.png-99999.png范围 05代表位数可自行修改"
      ]
    },
    {
      "cell_type": "code",
      "metadata": {
        "id": "pcQS6FRV_5jJ",
        "colab_type": "code",
        "colab": {}
      },
      "source": [
        "!mkdir temp\n",
        "!mkdir temp2"
      ],
      "execution_count": 12,
      "outputs": []
    },
    {
      "cell_type": "code",
      "metadata": {
        "id": "jXHxe4KDvCtu",
        "colab_type": "code",
        "colab": {
          "base_uri": "https://localhost:8080/",
          "height": 490
        },
        "outputId": "e7272b48-3167-48eb-f9aa-1e462b264cc0"
      },
      "source": [
        "!ffmpeg -threads 8 -i /content/1.mp4 /content/temp/%05d.png"
      ],
      "execution_count": 25,
      "outputs": [
        {
          "output_type": "stream",
          "text": [
            "ffmpeg version 3.4.8-0ubuntu0.2 Copyright (c) 2000-2020 the FFmpeg developers\n",
            "  built with gcc 7 (Ubuntu 7.5.0-3ubuntu1~18.04)\n",
            "  configuration: --prefix=/usr --extra-version=0ubuntu0.2 --toolchain=hardened --libdir=/usr/lib/x86_64-linux-gnu --incdir=/usr/include/x86_64-linux-gnu --enable-gpl --disable-stripping --enable-avresample --enable-avisynth --enable-gnutls --enable-ladspa --enable-libass --enable-libbluray --enable-libbs2b --enable-libcaca --enable-libcdio --enable-libflite --enable-libfontconfig --enable-libfreetype --enable-libfribidi --enable-libgme --enable-libgsm --enable-libmp3lame --enable-libmysofa --enable-libopenjpeg --enable-libopenmpt --enable-libopus --enable-libpulse --enable-librubberband --enable-librsvg --enable-libshine --enable-libsnappy --enable-libsoxr --enable-libspeex --enable-libssh --enable-libtheora --enable-libtwolame --enable-libvorbis --enable-libvpx --enable-libwavpack --enable-libwebp --enable-libx265 --enable-libxml2 --enable-libxvid --enable-libzmq --enable-libzvbi --enable-omx --enable-openal --enable-opengl --enable-sdl2 --enable-libdc1394 --enable-libdrm --enable-libiec61883 --enable-chromaprint --enable-frei0r --enable-libopencv --enable-libx264 --enable-shared\n",
            "  libavutil      55. 78.100 / 55. 78.100\n",
            "  libavcodec     57.107.100 / 57.107.100\n",
            "  libavformat    57. 83.100 / 57. 83.100\n",
            "  libavdevice    57. 10.100 / 57. 10.100\n",
            "  libavfilter     6.107.100 /  6.107.100\n",
            "  libavresample   3.  7.  0 /  3.  7.  0\n",
            "  libswscale      4.  8.100 /  4.  8.100\n",
            "  libswresample   2.  9.100 /  2.  9.100\n",
            "  libpostproc    54.  7.100 / 54.  7.100\n",
            "Input #0, mpeg, from '/content/1.mp4':\n",
            "  Duration: 00:12:56.66, start: 0.533367, bitrate: 6165 kb/s\n",
            "    Stream #0:0[0x1e0]: Video: mpeg2video (Main), yuv420p(tv, top first), 720x480 [SAR 32:27 DAR 16:9], 30 fps, 59.94 tbr, 90k tbn, 59.94 tbc\n",
            "Stream mapping:\n",
            "  Stream #0:0 -> #0:0 (mpeg2video (native) -> png (native))\n",
            "Press [q] to stop, [?] for help\n",
            "Output #0, image2, to '/content/temp/%05d.png':\n",
            "  Metadata:\n",
            "    encoder         : Lavf57.83.100\n",
            "    Stream #0:0: Video: png, rgb24, 720x480 [SAR 32:27 DAR 16:9], q=2-31, 200 kb/s, 29.97 fps, 29.97 tbn, 29.97 tbc\n",
            "    Metadata:\n",
            "      encoder         : Lavc57.107.100 png\n",
            "\u001b[0;33mMore than 1000 frames duplicated\n",
            "frame=23280 fps= 33 q=-0.0 Lsize=N/A time=00:12:56.77 bitrate=N/A dup=4602 drop=0 speed= 1.1x    \n",
            "video:9623374kB audio:0kB subtitle:0kB other streams:0kB global headers:0kB muxing overhead: unknown\n"
          ],
          "name": "stdout"
        }
      ]
    },
    {
      "cell_type": "code",
      "metadata": {
        "id": "n8x5UhX4AHhK",
        "colab_type": "code",
        "colab": {}
      },
      "source": [
        "!ls /content/temp"
      ],
      "execution_count": null,
      "outputs": []
    },
    {
      "cell_type": "code",
      "metadata": {
        "id": "4Zs2UXMN6XWz",
        "colab_type": "code",
        "colab": {
          "base_uri": "https://localhost:8080/",
          "height": 269
        },
        "outputId": "a51a4ae8-a3ef-4bb8-8462-6d579a9bb905"
      },
      "source": [
        "!/content/realsr-ncnn-vulkan-*-linux/realsr-ncnn-vulkan -i /content/temp/05900.png -o /content/temp2/05900.png -s 4 "
      ],
      "execution_count": 34,
      "outputs": [
        {
          "output_type": "stream",
          "text": [
            "[0 Tesla T4]  queueC=2[8]  queueG=0[16]  queueT=1[1]\n",
            "[0 Tesla T4]  buglssc=0  bugsbn1=0  buglbia=0  bugihfa=0\n",
            "[0 Tesla T4]  fp16p=1  fp16s=1  fp16a=1  int8s=1  int8a=1\n",
            "0.00%\n",
            "8.33%\n",
            "16.67%\n",
            "25.00%\n",
            "33.33%\n",
            "41.67%\n",
            "50.00%\n",
            "58.33%\n",
            "66.67%\n",
            "75.00%\n",
            "83.33%\n",
            "91.67%\n"
          ],
          "name": "stdout"
        }
      ]
    },
    {
      "cell_type": "code",
      "metadata": {
        "id": "Idg2W-OlsK-n",
        "colab_type": "code",
        "colab": {
          "base_uri": "https://localhost:8080/",
          "height": 197
        },
        "outputId": "af5f5a54-1c93-4524-80ae-d98b0151484d"
      },
      "source": [
        "!/content/realsr-ncnn-vulkan-*-linux/realsr-ncnn-vulkan -i /content/temp/*.png -o /content/temp2/*.png -s 4 -x -m models-DF2K"
      ],
      "execution_count": null,
      "outputs": [
        {
          "output_type": "stream",
          "text": [
            "[0 Tesla T4]  queueC=2[8]  queueG=0[16]  queueT=1[1]\n",
            "[0 Tesla T4]  buglssc=0  bugsbn1=0  buglbia=0  bugihfa=0\n",
            "[0 Tesla T4]  fp16p=1  fp16s=1  fp16a=1  int8s=1  int8a=1\n",
            "0.00%\n",
            "8.33%\n",
            "16.67%\n",
            "25.00%\n",
            "33.33%\n",
            "41.67%\n"
          ],
          "name": "stdout"
        }
      ]
    },
    {
      "cell_type": "code",
      "metadata": {
        "id": "K8ycJnIjyVXw",
        "colab_type": "code",
        "colab": {
          "base_uri": "https://localhost:8080/",
          "height": 131
        },
        "outputId": "d4570919-f3fb-448d-8c68-0d017987ac4e"
      },
      "source": [
        "!ffmpeg -y -r 10 -i /content/temp/%05d.png /content/output.mp4"
      ],
      "execution_count": 19,
      "outputs": [
        {
          "output_type": "error",
          "ename": "SyntaxError",
          "evalue": "ignored",
          "traceback": [
            "\u001b[0;36m  File \u001b[0;32m\"<ipython-input-19-478abec1752a>\"\u001b[0;36m, line \u001b[0;32m1\u001b[0m\n\u001b[0;31m    ffmpeg -y -r 10 -i /content/temp/%05d.png /content/output.mp4\u001b[0m\n\u001b[0m                  ^\u001b[0m\n\u001b[0;31mSyntaxError\u001b[0m\u001b[0;31m:\u001b[0m invalid syntax\n"
          ]
        }
      ]
    }
  ]
}